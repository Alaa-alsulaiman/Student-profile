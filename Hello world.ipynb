{
 "cells": [
  {
   "cell_type": "code",
   "execution_count": 1,
   "id": "36944e0f-0033-416d-b6ab-81aafdf6017e",
   "metadata": {},
   "outputs": [
    {
     "name": "stdout",
     "output_type": "stream",
     "text": [
      "hello world\n"
     ]
    }
   ],
   "source": [
    "print(\"hello world\")"
   ]
  },
  {
   "cell_type": "code",
   "execution_count": 9,
   "id": "d1a2ad59-56b0-4380-a655-ad59d62ee672",
   "metadata": {},
   "outputs": [
    {
     "name": "stdout",
     "output_type": "stream",
     "text": [
      "Hello Alaa\n"
     ]
    }
   ],
   "source": [
    "name = \"Alaa\"\n",
    "print(\"Hello\" , name)"
   ]
  },
  {
   "cell_type": "code",
   "execution_count": 13,
   "id": "0125ef29-47ba-43c7-81d8-727766174c18",
   "metadata": {},
   "outputs": [
    {
     "name": "stdout",
     "output_type": "stream",
     "text": [
      "Hello Alaa\n"
     ]
    }
   ],
   "source": [
    "name = \"Alaa\"\n",
    "print( \"Hello \" + name)"
   ]
  },
  {
   "cell_type": "code",
   "execution_count": 17,
   "id": "b5f16569-93a0-4760-b521-101c2991fe66",
   "metadata": {},
   "outputs": [
    {
     "name": "stdout",
     "output_type": "stream",
     "text": [
      "Hello  37\n"
     ]
    }
   ],
   "source": [
    "num = 37\n",
    "print( \"Hello \" , num)"
   ]
  },
  {
   "cell_type": "code",
   "execution_count": 24,
   "id": "f94bcf2d-0365-4956-923e-c421df287cdc",
   "metadata": {},
   "outputs": [
    {
     "ename": "SyntaxError",
     "evalue": "invalid syntax (<ipython-input-24-65a64b52483f>, line 2)",
     "output_type": "error",
     "traceback": [
      "\u001b[1;36m  File \u001b[1;32m\"<ipython-input-24-65a64b52483f>\"\u001b[1;36m, line \u001b[1;32m2\u001b[0m\n\u001b[1;33m    print( \"Hello \" + %num)\u001b[0m\n\u001b[1;37m                      ^\u001b[0m\n\u001b[1;31mSyntaxError\u001b[0m\u001b[1;31m:\u001b[0m invalid syntax\n"
     ]
    }
   ],
   "source": [
    "num = 37\n",
    "print( \"Hello \" + num)"
   ]
  },
  {
   "cell_type": "code",
   "execution_count": 21,
   "id": "6efa96a7-aa5a-4cab-8d88-7a4c52c37968",
   "metadata": {},
   "outputs": [
    {
     "name": "stdout",
     "output_type": "stream",
     "text": [
      "I love to eat sushi pizza.\n"
     ]
    }
   ],
   "source": [
    "fave_food1 = \"sushi\"\n",
    "fave_food2 = \"pizza\"\n",
    "print(\"I love to eat {} {}.\".format (fave_food1 , fave_food2) )"
   ]
  },
  {
   "cell_type": "code",
   "execution_count": 23,
   "id": "e85ebbbb-105c-4f92-b1e7-752760e3dc73",
   "metadata": {},
   "outputs": [
    {
     "name": "stdout",
     "output_type": "stream",
     "text": [
      "I love to eat is sushi pizza.\n"
     ]
    }
   ],
   "source": [
    "fave_food1 = \"sushi\"\n",
    "fave_food2 = \"pizza\"\n",
    "print(f\"I love to eat is {fave_food1} {fave_food2}.\")"
   ]
  },
  {
   "cell_type": "code",
   "execution_count": null,
   "id": "6f527886-990f-487d-b93f-41be22e3e43d",
   "metadata": {},
   "outputs": [],
   "source": []
  }
 ],
 "metadata": {
  "kernelspec": {
   "display_name": "Python 3",
   "language": "python",
   "name": "python3"
  },
  "language_info": {
   "codemirror_mode": {
    "name": "ipython",
    "version": 3
   },
   "file_extension": ".py",
   "mimetype": "text/x-python",
   "name": "python",
   "nbconvert_exporter": "python",
   "pygments_lexer": "ipython3",
   "version": "3.8.8"
  }
 },
 "nbformat": 4,
 "nbformat_minor": 5
}
